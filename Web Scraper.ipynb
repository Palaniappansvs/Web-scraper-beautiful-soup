{
 "cells": [
  {
   "cell_type": "markdown",
   "metadata": {},
   "source": [
    "# 1. Data Extraction using Web scraping"
   ]
  },
  {
   "cell_type": "code",
   "execution_count": 5,
   "metadata": {},
   "outputs": [],
   "source": [
    "from urllib.request import urlopen\n",
    "from urllib.error import HTTPError\n",
    "from bs4 import BeautifulSoup"
   ]
  },
  {
   "cell_type": "code",
   "execution_count": 6,
   "metadata": {},
   "outputs": [],
   "source": [
    "def extract(target_url):\n",
    "    try:\n",
    "        html = urlopen(target_url)\n",
    "        soup = BeautifulSoup(html.read(), 'lxml')\n",
    "        paragraphs = soup.find_all('p')\n",
    "        headers = soup.find_all('h2')\n",
    "        txt = []\n",
    "        for x in paragraphs:\n",
    "            txt.append(x.text)\n",
    "        scraped_text = '. '.join(txt)\n",
    "        return scraped_text\n",
    "    except:\n",
    "        return ''"
   ]
  },
  {
   "cell_type": "code",
   "execution_count": 7,
   "metadata": {},
   "outputs": [
    {
     "data": {
      "text/plain": [
       "'Select which Site you would like to reach:. Immersive, highly personalized experiences are simplifying customer journeys and boosting sales. Augmented operations are reducing costs and powering smart factories. Across the industries, AI is empowering employees and driving material performance improvements. And it’s happening today.. Outcome-led and driven by priority business challenges, Perform AI is Capgemini’s unique, holistic AI service portfolio. Harnessing your enthusiasm go further and achieve more, Perform AI takes you beyond MVP to deliver AI at scale for maximum impact.. If you’re already experimenting with AI or have a number of initiatives across your organization, our modular approach to enable you to move to pragmatic delivery at scale, with real world impact, building on, and enhancing, what you’ve already started. The result? We help you industrialize AI and accelerate your AI-infused transformation to realize sustainable and trusted business performance. We believe in an ethical, people-first approach. Every Perform AI engagement considers culture, process, data and technology – proactively managing the effect of each new initiative on your AI-enhanced workforce. Building trust and transparency to ensure adoption and success.. AI is asking tough questions. Perform AI offers pragmatic answers, proven solutions, and real world impact. Today. . The Perform AI Portfolio: a complete set of solutions to infuse AI in your organization. Perform AI sector solutions that address specific industry needs. Foundation services to create the right data and platforms to deliver trusted AI solutions in production and at scale.. Improving the impact of marketing campaigns by turning raw consumer and sales data into...\\t\\t\\t\\t. Capgemini and IBM Watson transform the way CT scan information is analyzed.. DVSA and Capgemini AIE transform theory tests for digitally-native customers.. “PoCs and bolt-on initiatives offer only the briefest glimpse of what’s possible. It’s time to deploy AI at scale.”. “Through the application of AI technologies, our Perform AI solutions will increase the speed of execution and certainty of success for our clients’ AI initiatives … taking our clients to the next stage of their journey to the Intelligent Enterprise.\". Artificial Intelligence – read this latest review whether you are a proactive adopter or...\\t\\t\\t\\t. A pragmatic guide to help organizations in their AI investment decisions. A proven source of technology guidance to help enterprises navigate the compelling and...\\t\\t\\t\\t. Giving retail and consumer product customers a superior delivery experience without impacting...\\t\\t\\t\\t. Consumers are increasingly aware and satisfied by AI-enabled experiences, but expect the...\\t\\t\\t\\t. How unleashing AI across functions offers a multi-billion dollar opportunity. Humans and technology\\xa0working together with\\xa0transparency and trust.. Chief Innovation Officer and expert in Applied Innovation. We are sorry, the form submission failed. Please try again.\\t\\t\\t. All rights reserved by Capgemini. Copyright © 2019. By continuing to navigate on this website, you accept the use of cookies.. For more information and to change the setting of cookies on your computer, please read our Privacy Policy.. Close'"
      ]
     },
     "execution_count": 7,
     "metadata": {},
     "output_type": "execute_result"
    }
   ],
   "source": [
    "target_url = 'https://www.capgemini.com/us-en/service/perform-ai/'\n",
    "extract(target_url)"
   ]
  }
 ],
 "metadata": {
  "kernelspec": {
   "display_name": "Python 3",
   "language": "python",
   "name": "python3"
  },
  "language_info": {
   "codemirror_mode": {
    "name": "ipython",
    "version": 3
   },
   "file_extension": ".py",
   "mimetype": "text/x-python",
   "name": "python",
   "nbconvert_exporter": "python",
   "pygments_lexer": "ipython3",
   "version": "3.7.3"
  }
 },
 "nbformat": 4,
 "nbformat_minor": 2
}
